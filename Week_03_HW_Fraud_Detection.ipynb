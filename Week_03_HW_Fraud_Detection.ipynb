{
  "nbformat": 4,
  "nbformat_minor": 0,
  "metadata": {
    "colab": {
      "name": "Week_03_HW_Fraud-Detection.ipynb",
      "provenance": [],
      "collapsed_sections": [],
      "toc_visible": true
    },
    "kernelspec": {
      "name": "python3",
      "display_name": "Python 3"
    }
  },
  "cells": [
    {
      "cell_type": "markdown",
      "metadata": {
        "id": "KOMZGPW_tMr0",
        "colab_type": "text"
      },
      "source": [
        "# Detecting Fraudulent Transactions\n",
        "\n",
        "\n",
        "\n",
        "\n",
        "> #### *Dataset from [Kaggle](https://www.kaggle.com/c/ieee-fraud-detection/data)*\n",
        "*https://www.kaggle.com/c/ieee-fraud-detection/data*\n",
        "\n",
        "\n",
        "\n",
        "\n",
        "## *Week 03 homework:*\n",
        "---\n"
      ]
    },
    {
      "cell_type": "markdown",
      "metadata": {
        "id": "5AEI0Mu9tujr",
        "colab_type": "text"
      },
      "source": [
        "### *Importing libraries*"
      ]
    },
    {
      "cell_type": "code",
      "metadata": {
        "id": "9VN-e7AWtEf2",
        "colab_type": "code",
        "cellView": "both",
        "colab": {}
      },
      "source": [
        "import numpy as np\n",
        "import pandas as pd\n",
        "import matplotlib.pyplot as plt\n",
        "import seaborn as sns\n",
        "import os\n",
        "from sklearn import preprocessing\n",
        "from sklearn.linear_model import LogisticRegression\n",
        "from sklearn.model_selection import train_test_split\n",
        "from sklearn.metrics import recall_score\n",
        "from sklearn.metrics import accuracy_score"
      ],
      "execution_count": 0,
      "outputs": []
    },
    {
      "cell_type": "markdown",
      "metadata": {
        "id": "Kpyjp66-H7-o",
        "colab_type": "text"
      },
      "source": [
        "### *Downloading and unzipping dataset*\n",
        "\n",
        "\n",
        "\n",
        "\n",
        "\n",
        "1.   **Use username and token for Kaggle API**\n",
        ">```\n",
        "os.environ['KAGGLE_USERNAME'] = \"USERNAME_GOES_HERE\"\n",
        "os.environ['KAGGLE_KEY'] = \"TOKEN_GOES_HERE\"\n",
        "```\n",
        "2.   **Download dataset**\n",
        "3.   **Unzip dataset files**\n",
        "\n",
        "\n",
        "\n",
        "*For some reason, requires refreshing 'files' in colab to display and use the unzipped files.*\n"
      ]
    },
    {
      "cell_type": "code",
      "metadata": {
        "id": "d7T8GnxqBAV6",
        "colab_type": "code",
        "cellView": "both",
        "colab": {}
      },
      "source": [
        "# Download\n",
        "os.environ['KAGGLE_USERNAME'] = \"KAGGLE_USERNAME_HERE\"\n",
        "os.environ['KAGGLE_KEY'] = \"KAGGLE_KEY_HERE\"\n",
        "!kaggle competitions download -c ieee-fraud-detection\n",
        "\n",
        "# Unzip\n",
        "!unzip train_transaction.csv.zip\n",
        "!unzip train_identity.csv.zip"
      ],
      "execution_count": 0,
      "outputs": []
    },
    {
      "cell_type": "markdown",
      "metadata": {
        "id": "fUtlg4BewYND",
        "colab_type": "text"
      },
      "source": [
        "### *Data preprocessing*\n",
        "\n",
        "\n",
        "\n",
        "\n",
        "1.   **Read training data and set as dataframe**\n",
        "2.   **Merge training dataframes** *by Transaction ID (`on='TransactionID'`) but ignore data we already have in the transaction data file (frame) (`'how=left'`)*\n",
        "3.   **Check how many null values are in the data and drop / remove 50% of them.** *(The whole column)* \n",
        "4.   **Replace any** ```'NOT A NUMBER (NaN)'``` **values with -999**\n",
        "5.   **Define ```'y'``` as the fraud or not fraud column, and ```'X'``` as all of the feature columns**\n",
        "6.   **Replace categorical data with numerical data using `LabelEncoder` while looping through each column**\n",
        "7.   **Split the data into training and testing data with 30% of it being for testing**\n",
        "\n"
      ]
    },
    {
      "cell_type": "code",
      "metadata": {
        "colab_type": "code",
        "cellView": "both",
        "id": "h_teIva2qm5m",
        "colab": {}
      },
      "source": [
        "# Read\n",
        "df_train_transaction = pd.read_csv('train_transaction.csv')\n",
        "df_train_identity = pd.read_csv('train_identity.csv')\n",
        "\n",
        "# Merge\n",
        "df_train = pd.merge(df_train_transaction, df_train_identity, on='TransactionID', how='left')\n",
        "\n",
        "# Drop some null values and replace NaN data with -999\n",
        "null_percent = df_train.isnull().sum()/df_train.shape[0]*100\n",
        "cols_to_drop = np.array(null_percent[null_percent > 50].index)\n",
        "df_train = df_train.drop(cols_to_drop, axis=1)\n",
        "df_train = df_train.fillna(-999)\n",
        "\n",
        "# Set training X and y data for ML later\n",
        "train_y = df_train['isFraud']\n",
        "train_X = df_train.drop('isFraud', axis=1)\n",
        "\n",
        "# Loop through all columns / features. If it's categorical, replace it.\n",
        "for f in train_X.columns:\n",
        "  if train_X[f].dtype=='object': \n",
        "    lbl = preprocessing.LabelEncoder()\n",
        "    lbl.fit(list(train_X[f].values))\n",
        "    train_X[f] = lbl.transform(list(train_X[f].values))\n",
        "\n",
        "# Split data into training and testing and specifiy the percentage of desired testing data    \n",
        "X_train,X_test,y_train,y_test=train_test_split(train_X,train_y,test_size=0.3)"
      ],
      "execution_count": 0,
      "outputs": []
    },
    {
      "cell_type": "markdown",
      "metadata": {
        "id": "hzm8REQAfQK0",
        "colab_type": "text"
      },
      "source": [
        "### *Stats and visualizing*\n",
        "\n",
        "1.   **Output stats about the unmerged data**\n",
        "2.   **Output stats about the merged data**\n",
        "3.   **Plot not fraud vs fraud**\n"
      ]
    },
    {
      "cell_type": "code",
      "metadata": {
        "id": "RI5M_5MWcDIU",
        "colab_type": "code",
        "colab": {
          "base_uri": "https://localhost:8080/",
          "height": 368
        },
        "outputId": "6662cc74-40b0-4c3b-fba2-310bd815119a"
      },
      "source": [
        "# Output dataframe stats\n",
        "print('Train transaction & identity (rows - columns): ', df_train_transaction.shape, df_train_identity.shape)\n",
        "print() # For a line break\n",
        "print('Transaction & identity merged dataframes')\n",
        "print('Train merged: (rows - columns): ', df_train.shape)\n",
        "\n",
        "# Graph / Plot - not fraud vs fraud\n",
        "ax = sns.countplot(x='isFraud', data=df_train_transaction)\n",
        "ax.set_title('Not Fraud (0) vs Fraud (1) in training data:')\n",
        "ax.set_ylabel('Number of transactions')\n",
        "plt.show()"
      ],
      "execution_count": 5,
      "outputs": [
        {
          "output_type": "stream",
          "text": [
            "Train transaction & identity (rows - columns):  (590540, 394) (144233, 41)\n",
            "\n",
            "Transaction & identity merged dataframes\n",
            "Train merged: (rows - columns):  (590540, 220)\n"
          ],
          "name": "stdout"
        },
        {
          "output_type": "display_data",
          "data": {
            "image/png": "[encoded data removed]",
            "text/plain": [
              "<Figure size 432x288 with 1 Axes>"
            ]
          },
          "metadata": {
            "tags": []
          }
        }
      ]
    },
    {
      "cell_type": "markdown",
      "metadata": {
        "id": "zQ6yn7gnQ26Z",
        "colab_type": "text"
      },
      "source": [
        "### *Predicting with Logistic Regression and output scores*\n",
        "\n",
        "1.   **Set the algorythm to use**\n",
        "2.   **Fit the data**\n",
        "3.   **Predict**\n",
        "4.   **Output the score**\n",
        "5.   **Output the recall score**\n",
        "6.   **Output the accuracy score**"
      ]
    },
    {
      "cell_type": "code",
      "metadata": {
        "id": "66-5jKJEZ2am",
        "colab_type": "code",
        "colab": {
          "base_uri": "https://localhost:8080/",
          "height": 201
        },
        "outputId": "ba627aab-cb07-496d-8b52-3efeefe86ae5"
      },
      "source": [
        "# Use logistic regression, fit the data, predict and score the model\n",
        "lr = LogisticRegression(solver='lbfgs')  \n",
        "lr.fit(X_train, y_train)\n",
        "y_pred=lr.predict(X_test)\n",
        "\n",
        "# Model scores\n",
        "print(\"Score: \")\n",
        "print(lr.score(X_test, y_test))\n",
        "print()\n",
        "print(\"Recall score: \")\n",
        "print(recall_score(y_test, y_pred))\n",
        "print()\n",
        "print(\"Accuracy score: \")\n",
        "print(accuracy_score(y_test, y_pred))"
      ],
      "execution_count": 6,
      "outputs": [
        {
          "output_type": "stream",
          "text": [
            "/usr/local/lib/python3.6/dist-packages/sklearn/linear_model/logistic.py:947: ConvergenceWarning: lbfgs failed to converge. Increase the number of iterations.\n",
            "  \"of iterations.\", ConvergenceWarning)\n"
          ],
          "name": "stderr"
        },
        {
          "output_type": "stream",
          "text": [
            "Score: \n",
            "0.9644393267179192\n",
            "\n",
            "Recall score: \n",
            "0.0022392834293026233\n",
            "\n",
            "Accuracy score: \n",
            "0.9644393267179192\n"
          ],
          "name": "stdout"
        }
      ]
    }
  ]
}